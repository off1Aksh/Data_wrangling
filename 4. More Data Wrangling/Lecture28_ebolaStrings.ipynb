{
 "cells": [
  {
   "cell_type": "code",
   "execution_count": null,
   "metadata": {},
   "outputs": [],
   "source": []
  },
  {
   "cell_type": "code",
   "execution_count": 4,
   "metadata": {},
   "outputs": [],
   "source": [
    "import pandas as pd\n"
   ]
  },
  {
   "cell_type": "code",
   "execution_count": 27,
   "metadata": {},
   "outputs": [
    {
     "data": {
      "text/html": [
       "<div>\n",
       "<style scoped>\n",
       "    .dataframe tbody tr th:only-of-type {\n",
       "        vertical-align: middle;\n",
       "    }\n",
       "\n",
       "    .dataframe tbody tr th {\n",
       "        vertical-align: top;\n",
       "    }\n",
       "\n",
       "    .dataframe thead th {\n",
       "        text-align: right;\n",
       "    }\n",
       "</style>\n",
       "<table border=\"1\" class=\"dataframe\">\n",
       "  <thead>\n",
       "    <tr style=\"text-align: right;\">\n",
       "      <th></th>\n",
       "      <th>Indicator</th>\n",
       "      <th>Country</th>\n",
       "      <th>Date</th>\n",
       "      <th>value</th>\n",
       "    </tr>\n",
       "  </thead>\n",
       "  <tbody>\n",
       "    <tr>\n",
       "      <th>0</th>\n",
       "      <td>Cumulative number of confirmed, probable and s...</td>\n",
       "      <td>Guinea</td>\n",
       "      <td>2015-03-10</td>\n",
       "      <td>3285.0</td>\n",
       "    </tr>\n",
       "    <tr>\n",
       "      <th>1</th>\n",
       "      <td>Cumulative number of confirmed Ebola cases</td>\n",
       "      <td>Guinea</td>\n",
       "      <td>2015-03-10</td>\n",
       "      <td>2871.0</td>\n",
       "    </tr>\n",
       "    <tr>\n",
       "      <th>2</th>\n",
       "      <td>Cumulative number of probable Ebola cases</td>\n",
       "      <td>Guinea</td>\n",
       "      <td>2015-03-10</td>\n",
       "      <td>392.0</td>\n",
       "    </tr>\n",
       "    <tr>\n",
       "      <th>3</th>\n",
       "      <td>Cumulative number of suspected Ebola cases</td>\n",
       "      <td>Guinea</td>\n",
       "      <td>2015-03-10</td>\n",
       "      <td>22.0</td>\n",
       "    </tr>\n",
       "    <tr>\n",
       "      <th>4</th>\n",
       "      <td>Cumulative number of confirmed, probable and s...</td>\n",
       "      <td>Guinea</td>\n",
       "      <td>2015-03-10</td>\n",
       "      <td>2170.0</td>\n",
       "    </tr>\n",
       "  </tbody>\n",
       "</table>\n",
       "</div>"
      ],
      "text/plain": [
       "                                           Indicator Country        Date  \\\n",
       "0  Cumulative number of confirmed, probable and s...  Guinea  2015-03-10   \n",
       "1         Cumulative number of confirmed Ebola cases  Guinea  2015-03-10   \n",
       "2          Cumulative number of probable Ebola cases  Guinea  2015-03-10   \n",
       "3         Cumulative number of suspected Ebola cases  Guinea  2015-03-10   \n",
       "4  Cumulative number of confirmed, probable and s...  Guinea  2015-03-10   \n",
       "\n",
       "    value  \n",
       "0  3285.0  \n",
       "1  2871.0  \n",
       "2   392.0  \n",
       "3    22.0  \n",
       "4  2170.0  "
      ]
     },
     "execution_count": 27,
     "metadata": {},
     "output_type": "execute_result"
    }
   ],
   "source": [
    "e = pd.read_csv('ebola.csv')\n",
    "e.head()"
   ]
  },
  {
   "cell_type": "code",
   "execution_count": 19,
   "metadata": {},
   "outputs": [
    {
     "data": {
      "text/plain": [
       "Indicator     object\n",
       "Country       object\n",
       "Date          object\n",
       "value        float64\n",
       "dtype: object"
      ]
     },
     "execution_count": 19,
     "metadata": {},
     "output_type": "execute_result"
    }
   ],
   "source": [
    "e.dtypes"
   ]
  },
  {
   "cell_type": "markdown",
   "metadata": {},
   "source": [
    "### Improve the readability of indicators"
   ]
  },
  {
   "cell_type": "code",
   "execution_count": 28,
   "metadata": {},
   "outputs": [],
   "source": [
    "import re"
   ]
  },
  {
   "cell_type": "code",
   "execution_count": 29,
   "metadata": {},
   "outputs": [],
   "source": [
    "def covertIndicators(ind):\n",
    "    result = 'Unknown : Unknown'\n",
    "    lst_ind = [\n",
    "        { 'regx': r'Case fatality rate \\(CFR\\) of (.*) Ebola cases', 'abbv': 'CFR'},\n",
    "        { 'regx': r'Cumulative number of (.*) Ebola deaths', 'abbv': 'Cumulative Deaths'},\n",
    "        { 'regx': r'Cumulative number of (.*) Ebola cases', 'abbv': 'Cumulative Cases'},\n",
    "        { 'regx': r'Proportion of (.*) Ebola deaths that are from the last 21 days', 'abbv': 'Proportion Deaths 21'},\n",
    "        { 'regx': r'Proportion of (.*) Ebola cases that are from the last 21 days', 'abbv': 'Proportion Cases 21'},\n",
    "        { 'regx': r'Proportion of (.*) Ebola cases that are from the last 7 days', 'abbv': 'Proportion Cases 07'},\n",
    "        { 'regx': r'Number of (.*) Ebola deaths in the last 21 days', 'abbv': 'Number Deaths 21'},\n",
    "        { 'regx': r'Number of (.*) Ebola cases in the last 21 days', 'abbv': 'Number Cases 21'},\n",
    "        { 'regx': r'Number of (.*) Ebola cases in the last 7 days', 'abbv': 'Number Cases 07'},\n",
    "    ]\n",
    "    for i in lst_ind:\n",
    "        match = re.search(i['regx'], ind)\n",
    "        if match:\n",
    "            tmp = str(match.group(1))\n",
    "            result = i['abbv'] + ' : ' + (tmp if len(tmp) < 20 else 'All')\n",
    "            break\n",
    "    return result            "
   ]
  },
  {
   "cell_type": "code",
   "execution_count": 31,
   "metadata": {},
   "outputs": [],
   "source": [
    "e['ind'] = e['Indicator'].apply(covertIndicators)"
   ]
  },
  {
   "cell_type": "code",
   "execution_count": 32,
   "metadata": {},
   "outputs": [],
   "source": [
    "e['ind_class'] = e['ind'].apply(lambda x: x.split(' : ')[0])\n",
    "e['ind_sub'] = e['ind'].apply(lambda x: x.split(' : ')[1])"
   ]
  },
  {
   "cell_type": "code",
   "execution_count": 33,
   "metadata": {},
   "outputs": [
    {
     "data": {
      "text/html": [
       "<div>\n",
       "<style scoped>\n",
       "    .dataframe tbody tr th:only-of-type {\n",
       "        vertical-align: middle;\n",
       "    }\n",
       "\n",
       "    .dataframe tbody tr th {\n",
       "        vertical-align: top;\n",
       "    }\n",
       "\n",
       "    .dataframe thead th {\n",
       "        text-align: right;\n",
       "    }\n",
       "</style>\n",
       "<table border=\"1\" class=\"dataframe\">\n",
       "  <thead>\n",
       "    <tr style=\"text-align: right;\">\n",
       "      <th></th>\n",
       "      <th>Country</th>\n",
       "      <th>Date</th>\n",
       "      <th>value</th>\n",
       "      <th>ind_class</th>\n",
       "      <th>ind_sub</th>\n",
       "    </tr>\n",
       "  </thead>\n",
       "  <tbody>\n",
       "    <tr>\n",
       "      <th>0</th>\n",
       "      <td>Guinea</td>\n",
       "      <td>2015-03-10</td>\n",
       "      <td>3285.0</td>\n",
       "      <td>Cumulative Cases</td>\n",
       "      <td>All</td>\n",
       "    </tr>\n",
       "    <tr>\n",
       "      <th>1</th>\n",
       "      <td>Guinea</td>\n",
       "      <td>2015-03-10</td>\n",
       "      <td>2871.0</td>\n",
       "      <td>Cumulative Cases</td>\n",
       "      <td>confirmed</td>\n",
       "    </tr>\n",
       "    <tr>\n",
       "      <th>2</th>\n",
       "      <td>Guinea</td>\n",
       "      <td>2015-03-10</td>\n",
       "      <td>392.0</td>\n",
       "      <td>Cumulative Cases</td>\n",
       "      <td>probable</td>\n",
       "    </tr>\n",
       "    <tr>\n",
       "      <th>3</th>\n",
       "      <td>Guinea</td>\n",
       "      <td>2015-03-10</td>\n",
       "      <td>22.0</td>\n",
       "      <td>Cumulative Cases</td>\n",
       "      <td>suspected</td>\n",
       "    </tr>\n",
       "    <tr>\n",
       "      <th>4</th>\n",
       "      <td>Guinea</td>\n",
       "      <td>2015-03-10</td>\n",
       "      <td>2170.0</td>\n",
       "      <td>Cumulative Deaths</td>\n",
       "      <td>All</td>\n",
       "    </tr>\n",
       "  </tbody>\n",
       "</table>\n",
       "</div>"
      ],
      "text/plain": [
       "  Country        Date   value          ind_class    ind_sub\n",
       "0  Guinea  2015-03-10  3285.0   Cumulative Cases        All\n",
       "1  Guinea  2015-03-10  2871.0   Cumulative Cases  confirmed\n",
       "2  Guinea  2015-03-10   392.0   Cumulative Cases   probable\n",
       "3  Guinea  2015-03-10    22.0   Cumulative Cases  suspected\n",
       "4  Guinea  2015-03-10  2170.0  Cumulative Deaths        All"
      ]
     },
     "execution_count": 33,
     "metadata": {},
     "output_type": "execute_result"
    }
   ],
   "source": [
    "e.drop(['Indicator', 'ind'], axis=1, inplace=True)\n",
    "e.head()"
   ]
  },
  {
   "cell_type": "code",
   "execution_count": 34,
   "metadata": {},
   "outputs": [
    {
     "data": {
      "text/plain": [
       "array(['Cumulative Cases', 'Cumulative Deaths', 'Number Cases 21',\n",
       "       'Number Cases 07', 'Proportion Cases 07', 'Proportion Cases 21',\n",
       "       'CFR', 'Number Deaths 21', 'Proportion Deaths 21'], dtype=object)"
      ]
     },
     "execution_count": 34,
     "metadata": {},
     "output_type": "execute_result"
    }
   ],
   "source": [
    "e['ind_class'].unique()"
   ]
  },
  {
   "cell_type": "code",
   "execution_count": null,
   "metadata": {},
   "outputs": [],
   "source": []
  },
  {
   "cell_type": "code",
   "execution_count": null,
   "metadata": {},
   "outputs": [],
   "source": []
  }
 ],
 "metadata": {
  "kernelspec": {
   "display_name": "Python 3",
   "language": "python",
   "name": "python3"
  },
  "language_info": {
   "codemirror_mode": {
    "name": "ipython",
    "version": 3
   },
   "file_extension": ".py",
   "mimetype": "text/x-python",
   "name": "python",
   "nbconvert_exporter": "python",
   "pygments_lexer": "ipython3",
   "version": "3.6.8"
  }
 },
 "nbformat": 4,
 "nbformat_minor": 2
}
