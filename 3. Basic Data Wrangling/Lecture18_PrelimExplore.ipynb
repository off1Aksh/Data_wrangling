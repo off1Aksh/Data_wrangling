{
 "cells": [
  {
   "cell_type": "code",
   "execution_count": null,
   "metadata": {
    "collapsed": true
   },
   "outputs": [],
   "source": []
  },
  {
   "cell_type": "code",
   "execution_count": null,
   "metadata": {
    "collapsed": true
   },
   "outputs": [],
   "source": []
  },
  {
   "cell_type": "code",
   "execution_count": 1,
   "metadata": {
    "collapsed": true
   },
   "outputs": [],
   "source": [
    "import pandas as pd"
   ]
  },
  {
   "cell_type": "code",
   "execution_count": 2,
   "metadata": {},
   "outputs": [],
   "source": [
    "indc=pd.read_csv(\"Indicators.csv\")"
   ]
  },
  {
   "cell_type": "code",
   "execution_count": null,
   "metadata": {
    "collapsed": true
   },
   "outputs": [],
   "source": []
  },
  {
   "cell_type": "code",
   "execution_count": 3,
   "metadata": {},
   "outputs": [
    {
     "data": {
      "text/html": [
       "<div>\n",
       "<style scoped>\n",
       "    .dataframe tbody tr th:only-of-type {\n",
       "        vertical-align: middle;\n",
       "    }\n",
       "\n",
       "    .dataframe tbody tr th {\n",
       "        vertical-align: top;\n",
       "    }\n",
       "\n",
       "    .dataframe thead th {\n",
       "        text-align: right;\n",
       "    }\n",
       "</style>\n",
       "<table border=\"1\" class=\"dataframe\">\n",
       "  <thead>\n",
       "    <tr style=\"text-align: right;\">\n",
       "      <th></th>\n",
       "      <th>CountryName</th>\n",
       "      <th>CountryCode</th>\n",
       "      <th>IndicatorName</th>\n",
       "      <th>IndicatorCode</th>\n",
       "      <th>Year</th>\n",
       "      <th>Value</th>\n",
       "    </tr>\n",
       "  </thead>\n",
       "  <tbody>\n",
       "    <tr>\n",
       "      <th>0</th>\n",
       "      <td>Arab World</td>\n",
       "      <td>ARB</td>\n",
       "      <td>Adolescent fertility rate (births per 1,000 wo...</td>\n",
       "      <td>SP.ADO.TFRT</td>\n",
       "      <td>1960</td>\n",
       "      <td>1.335609e+02</td>\n",
       "    </tr>\n",
       "    <tr>\n",
       "      <th>1</th>\n",
       "      <td>Arab World</td>\n",
       "      <td>ARB</td>\n",
       "      <td>Age dependency ratio (% of working-age populat...</td>\n",
       "      <td>SP.POP.DPND</td>\n",
       "      <td>1960</td>\n",
       "      <td>8.779760e+01</td>\n",
       "    </tr>\n",
       "    <tr>\n",
       "      <th>2</th>\n",
       "      <td>Arab World</td>\n",
       "      <td>ARB</td>\n",
       "      <td>Age dependency ratio, old (% of working-age po...</td>\n",
       "      <td>SP.POP.DPND.OL</td>\n",
       "      <td>1960</td>\n",
       "      <td>6.634579e+00</td>\n",
       "    </tr>\n",
       "    <tr>\n",
       "      <th>3</th>\n",
       "      <td>Arab World</td>\n",
       "      <td>ARB</td>\n",
       "      <td>Age dependency ratio, young (% of working-age ...</td>\n",
       "      <td>SP.POP.DPND.YG</td>\n",
       "      <td>1960</td>\n",
       "      <td>8.102333e+01</td>\n",
       "    </tr>\n",
       "    <tr>\n",
       "      <th>4</th>\n",
       "      <td>Arab World</td>\n",
       "      <td>ARB</td>\n",
       "      <td>Arms exports (SIPRI trend indicator values)</td>\n",
       "      <td>MS.MIL.XPRT.KD</td>\n",
       "      <td>1960</td>\n",
       "      <td>3.000000e+06</td>\n",
       "    </tr>\n",
       "  </tbody>\n",
       "</table>\n",
       "</div>"
      ],
      "text/plain": [
       "  CountryName CountryCode                                      IndicatorName  \\\n",
       "0  Arab World         ARB  Adolescent fertility rate (births per 1,000 wo...   \n",
       "1  Arab World         ARB  Age dependency ratio (% of working-age populat...   \n",
       "2  Arab World         ARB  Age dependency ratio, old (% of working-age po...   \n",
       "3  Arab World         ARB  Age dependency ratio, young (% of working-age ...   \n",
       "4  Arab World         ARB        Arms exports (SIPRI trend indicator values)   \n",
       "\n",
       "    IndicatorCode  Year         Value  \n",
       "0     SP.ADO.TFRT  1960  1.335609e+02  \n",
       "1     SP.POP.DPND  1960  8.779760e+01  \n",
       "2  SP.POP.DPND.OL  1960  6.634579e+00  \n",
       "3  SP.POP.DPND.YG  1960  8.102333e+01  \n",
       "4  MS.MIL.XPRT.KD  1960  3.000000e+06  "
      ]
     },
     "execution_count": 3,
     "metadata": {},
     "output_type": "execute_result"
    }
   ],
   "source": [
    "indc.head()"
   ]
  },
  {
   "cell_type": "code",
   "execution_count": 4,
   "metadata": {},
   "outputs": [
    {
     "data": {
      "text/html": [
       "<div>\n",
       "<style scoped>\n",
       "    .dataframe tbody tr th:only-of-type {\n",
       "        vertical-align: middle;\n",
       "    }\n",
       "\n",
       "    .dataframe tbody tr th {\n",
       "        vertical-align: top;\n",
       "    }\n",
       "\n",
       "    .dataframe thead th {\n",
       "        text-align: right;\n",
       "    }\n",
       "</style>\n",
       "<table border=\"1\" class=\"dataframe\">\n",
       "  <thead>\n",
       "    <tr style=\"text-align: right;\">\n",
       "      <th></th>\n",
       "      <th>CountryName</th>\n",
       "      <th>CountryCode</th>\n",
       "      <th>IndicatorName</th>\n",
       "      <th>IndicatorCode</th>\n",
       "      <th>Year</th>\n",
       "      <th>Value</th>\n",
       "    </tr>\n",
       "  </thead>\n",
       "  <tbody>\n",
       "    <tr>\n",
       "      <th>0</th>\n",
       "      <td>Arab World</td>\n",
       "      <td>ARB</td>\n",
       "      <td>Adolescent fertility rate (births per 1,000 wo...</td>\n",
       "      <td>SP.ADO.TFRT</td>\n",
       "      <td>1960</td>\n",
       "      <td>1.335609e+02</td>\n",
       "    </tr>\n",
       "    <tr>\n",
       "      <th>1</th>\n",
       "      <td>Arab World</td>\n",
       "      <td>ARB</td>\n",
       "      <td>Age dependency ratio (% of working-age populat...</td>\n",
       "      <td>SP.POP.DPND</td>\n",
       "      <td>1960</td>\n",
       "      <td>8.779760e+01</td>\n",
       "    </tr>\n",
       "    <tr>\n",
       "      <th>2</th>\n",
       "      <td>Arab World</td>\n",
       "      <td>ARB</td>\n",
       "      <td>Age dependency ratio, old (% of working-age po...</td>\n",
       "      <td>SP.POP.DPND.OL</td>\n",
       "      <td>1960</td>\n",
       "      <td>6.634579e+00</td>\n",
       "    </tr>\n",
       "    <tr>\n",
       "      <th>3</th>\n",
       "      <td>Arab World</td>\n",
       "      <td>ARB</td>\n",
       "      <td>Age dependency ratio, young (% of working-age ...</td>\n",
       "      <td>SP.POP.DPND.YG</td>\n",
       "      <td>1960</td>\n",
       "      <td>8.102333e+01</td>\n",
       "    </tr>\n",
       "    <tr>\n",
       "      <th>4</th>\n",
       "      <td>Arab World</td>\n",
       "      <td>ARB</td>\n",
       "      <td>Arms exports (SIPRI trend indicator values)</td>\n",
       "      <td>MS.MIL.XPRT.KD</td>\n",
       "      <td>1960</td>\n",
       "      <td>3.000000e+06</td>\n",
       "    </tr>\n",
       "    <tr>\n",
       "      <th>5</th>\n",
       "      <td>Arab World</td>\n",
       "      <td>ARB</td>\n",
       "      <td>Arms imports (SIPRI trend indicator values)</td>\n",
       "      <td>MS.MIL.MPRT.KD</td>\n",
       "      <td>1960</td>\n",
       "      <td>5.380000e+08</td>\n",
       "    </tr>\n",
       "    <tr>\n",
       "      <th>6</th>\n",
       "      <td>Arab World</td>\n",
       "      <td>ARB</td>\n",
       "      <td>Birth rate, crude (per 1,000 people)</td>\n",
       "      <td>SP.DYN.CBRT.IN</td>\n",
       "      <td>1960</td>\n",
       "      <td>4.769789e+01</td>\n",
       "    </tr>\n",
       "  </tbody>\n",
       "</table>\n",
       "</div>"
      ],
      "text/plain": [
       "  CountryName CountryCode                                      IndicatorName  \\\n",
       "0  Arab World         ARB  Adolescent fertility rate (births per 1,000 wo...   \n",
       "1  Arab World         ARB  Age dependency ratio (% of working-age populat...   \n",
       "2  Arab World         ARB  Age dependency ratio, old (% of working-age po...   \n",
       "3  Arab World         ARB  Age dependency ratio, young (% of working-age ...   \n",
       "4  Arab World         ARB        Arms exports (SIPRI trend indicator values)   \n",
       "5  Arab World         ARB        Arms imports (SIPRI trend indicator values)   \n",
       "6  Arab World         ARB               Birth rate, crude (per 1,000 people)   \n",
       "\n",
       "    IndicatorCode  Year         Value  \n",
       "0     SP.ADO.TFRT  1960  1.335609e+02  \n",
       "1     SP.POP.DPND  1960  8.779760e+01  \n",
       "2  SP.POP.DPND.OL  1960  6.634579e+00  \n",
       "3  SP.POP.DPND.YG  1960  8.102333e+01  \n",
       "4  MS.MIL.XPRT.KD  1960  3.000000e+06  \n",
       "5  MS.MIL.MPRT.KD  1960  5.380000e+08  \n",
       "6  SP.DYN.CBRT.IN  1960  4.769789e+01  "
      ]
     },
     "execution_count": 4,
     "metadata": {},
     "output_type": "execute_result"
    }
   ],
   "source": [
    "indc.head(n=7)"
   ]
  },
  {
   "cell_type": "markdown",
   "metadata": {},
   "source": [
    "### What all columns do I have this dataframe?"
   ]
  },
  {
   "cell_type": "code",
   "execution_count": 5,
   "metadata": {},
   "outputs": [
    {
     "data": {
      "text/plain": [
       "['CountryName',\n",
       " 'CountryCode',\n",
       " 'IndicatorName',\n",
       " 'IndicatorCode',\n",
       " 'Year',\n",
       " 'Value']"
      ]
     },
     "execution_count": 5,
     "metadata": {},
     "output_type": "execute_result"
    }
   ],
   "source": [
    "list(indc)"
   ]
  },
  {
   "cell_type": "markdown",
   "metadata": {},
   "source": [
    "### What are their datatypes?\n"
   ]
  },
  {
   "cell_type": "code",
   "execution_count": 6,
   "metadata": {},
   "outputs": [
    {
     "data": {
      "text/plain": [
       "CountryName       object\n",
       "CountryCode       object\n",
       "IndicatorName     object\n",
       "IndicatorCode     object\n",
       "Year               int64\n",
       "Value            float64\n",
       "dtype: object"
      ]
     },
     "execution_count": 6,
     "metadata": {},
     "output_type": "execute_result"
    }
   ],
   "source": [
    "indc.dtypes"
   ]
  },
  {
   "cell_type": "code",
   "execution_count": 7,
   "metadata": {},
   "outputs": [
    {
     "data": {
      "text/plain": [
       "dtype('int64')"
      ]
     },
     "execution_count": 7,
     "metadata": {},
     "output_type": "execute_result"
    }
   ],
   "source": [
    "indc['Year'].dtype ##for 1 column"
   ]
  },
  {
   "cell_type": "code",
   "execution_count": null,
   "metadata": {
    "collapsed": true
   },
   "outputs": [],
   "source": []
  },
  {
   "cell_type": "code",
   "execution_count": null,
   "metadata": {
    "collapsed": true
   },
   "outputs": [],
   "source": []
  },
  {
   "cell_type": "code",
   "execution_count": 8,
   "metadata": {},
   "outputs": [
    {
     "data": {
      "text/html": [
       "<div>\n",
       "<style scoped>\n",
       "    .dataframe tbody tr th:only-of-type {\n",
       "        vertical-align: middle;\n",
       "    }\n",
       "\n",
       "    .dataframe tbody tr th {\n",
       "        vertical-align: top;\n",
       "    }\n",
       "\n",
       "    .dataframe thead th {\n",
       "        text-align: right;\n",
       "    }\n",
       "</style>\n",
       "<table border=\"1\" class=\"dataframe\">\n",
       "  <thead>\n",
       "    <tr style=\"text-align: right;\">\n",
       "      <th></th>\n",
       "      <th>Year</th>\n",
       "      <th>Value</th>\n",
       "    </tr>\n",
       "  </thead>\n",
       "  <tbody>\n",
       "    <tr>\n",
       "      <th>count</th>\n",
       "      <td>5.656458e+06</td>\n",
       "      <td>5.656458e+06</td>\n",
       "    </tr>\n",
       "    <tr>\n",
       "      <th>mean</th>\n",
       "      <td>1.994464e+03</td>\n",
       "      <td>1.070501e+12</td>\n",
       "    </tr>\n",
       "    <tr>\n",
       "      <th>std</th>\n",
       "      <td>1.387895e+01</td>\n",
       "      <td>4.842469e+13</td>\n",
       "    </tr>\n",
       "    <tr>\n",
       "      <th>min</th>\n",
       "      <td>1.960000e+03</td>\n",
       "      <td>-9.824821e+15</td>\n",
       "    </tr>\n",
       "    <tr>\n",
       "      <th>25%</th>\n",
       "      <td>1.984000e+03</td>\n",
       "      <td>5.566242e+00</td>\n",
       "    </tr>\n",
       "    <tr>\n",
       "      <th>50%</th>\n",
       "      <td>1.997000e+03</td>\n",
       "      <td>6.357450e+01</td>\n",
       "    </tr>\n",
       "    <tr>\n",
       "      <th>75%</th>\n",
       "      <td>2.006000e+03</td>\n",
       "      <td>1.346722e+07</td>\n",
       "    </tr>\n",
       "    <tr>\n",
       "      <th>max</th>\n",
       "      <td>2.015000e+03</td>\n",
       "      <td>1.103367e+16</td>\n",
       "    </tr>\n",
       "  </tbody>\n",
       "</table>\n",
       "</div>"
      ],
      "text/plain": [
       "               Year         Value\n",
       "count  5.656458e+06  5.656458e+06\n",
       "mean   1.994464e+03  1.070501e+12\n",
       "std    1.387895e+01  4.842469e+13\n",
       "min    1.960000e+03 -9.824821e+15\n",
       "25%    1.984000e+03  5.566242e+00\n",
       "50%    1.997000e+03  6.357450e+01\n",
       "75%    2.006000e+03  1.346722e+07\n",
       "max    2.015000e+03  1.103367e+16"
      ]
     },
     "execution_count": 8,
     "metadata": {},
     "output_type": "execute_result"
    }
   ],
   "source": [
    "indc.describe() ## statistical summary of quantitative data columns"
   ]
  },
  {
   "cell_type": "markdown",
   "metadata": {},
   "source": [
    "### How many unique countries?"
   ]
  },
  {
   "cell_type": "code",
   "execution_count": 9,
   "metadata": {},
   "outputs": [],
   "source": [
    "countries = indc['CountryName'].unique().tolist() ## list unique countries\n",
    "## and produce list"
   ]
  },
  {
   "cell_type": "code",
   "execution_count": 10,
   "metadata": {},
   "outputs": [
    {
     "data": {
      "text/plain": [
       "['Arab World',\n",
       " 'Caribbean small states',\n",
       " 'Central Europe and the Baltics',\n",
       " 'East Asia & Pacific (all income levels)',\n",
       " 'East Asia & Pacific (developing only)',\n",
       " 'Euro area',\n",
       " 'Europe & Central Asia (all income levels)',\n",
       " 'Europe & Central Asia (developing only)',\n",
       " 'European Union',\n",
       " 'Fragile and conflict affected situations',\n",
       " 'Heavily indebted poor countries (HIPC)',\n",
       " 'High income',\n",
       " 'High income: nonOECD',\n",
       " 'High income: OECD',\n",
       " 'Latin America & Caribbean (all income levels)',\n",
       " 'Latin America & Caribbean (developing only)',\n",
       " 'Least developed countries: UN classification',\n",
       " 'Low & middle income',\n",
       " 'Low income',\n",
       " 'Lower middle income',\n",
       " 'Middle East & North Africa (all income levels)',\n",
       " 'Middle East & North Africa (developing only)',\n",
       " 'Middle income',\n",
       " 'North America',\n",
       " 'OECD members',\n",
       " 'Other small states',\n",
       " 'Pacific island small states',\n",
       " 'Small states',\n",
       " 'South Asia',\n",
       " 'Sub-Saharan Africa (all income levels)',\n",
       " 'Sub-Saharan Africa (developing only)',\n",
       " 'Upper middle income',\n",
       " 'World',\n",
       " 'Afghanistan',\n",
       " 'Albania',\n",
       " 'Algeria',\n",
       " 'American Samoa',\n",
       " 'Andorra',\n",
       " 'Angola',\n",
       " 'Antigua and Barbuda',\n",
       " 'Argentina',\n",
       " 'Armenia',\n",
       " 'Aruba',\n",
       " 'Australia',\n",
       " 'Austria',\n",
       " 'Azerbaijan',\n",
       " 'Bahamas, The',\n",
       " 'Bahrain',\n",
       " 'Bangladesh',\n",
       " 'Barbados',\n",
       " 'Belarus',\n",
       " 'Belgium',\n",
       " 'Belize',\n",
       " 'Benin',\n",
       " 'Bermuda',\n",
       " 'Bhutan',\n",
       " 'Bolivia',\n",
       " 'Bosnia and Herzegovina',\n",
       " 'Botswana',\n",
       " 'Brazil',\n",
       " 'Brunei Darussalam',\n",
       " 'Bulgaria',\n",
       " 'Burkina Faso',\n",
       " 'Burundi',\n",
       " 'Cabo Verde',\n",
       " 'Cambodia',\n",
       " 'Cameroon',\n",
       " 'Canada',\n",
       " 'Cayman Islands',\n",
       " 'Central African Republic',\n",
       " 'Chad',\n",
       " 'Channel Islands',\n",
       " 'Chile',\n",
       " 'China',\n",
       " 'Colombia',\n",
       " 'Comoros',\n",
       " 'Congo, Dem. Rep.',\n",
       " 'Congo, Rep.',\n",
       " 'Costa Rica',\n",
       " \"Cote d'Ivoire\",\n",
       " 'Croatia',\n",
       " 'Cuba',\n",
       " 'Curacao',\n",
       " 'Cyprus',\n",
       " 'Czech Republic',\n",
       " 'Denmark',\n",
       " 'Djibouti',\n",
       " 'Dominica',\n",
       " 'Dominican Republic',\n",
       " 'Ecuador',\n",
       " 'Egypt, Arab Rep.',\n",
       " 'El Salvador',\n",
       " 'Equatorial Guinea',\n",
       " 'Eritrea',\n",
       " 'Estonia',\n",
       " 'Ethiopia',\n",
       " 'Faeroe Islands',\n",
       " 'Fiji',\n",
       " 'Finland',\n",
       " 'France',\n",
       " 'French Polynesia',\n",
       " 'Gabon',\n",
       " 'Gambia, The',\n",
       " 'Georgia',\n",
       " 'Germany',\n",
       " 'Ghana',\n",
       " 'Greece',\n",
       " 'Greenland',\n",
       " 'Grenada',\n",
       " 'Guam',\n",
       " 'Guatemala',\n",
       " 'Guinea',\n",
       " 'Guinea-Bissau',\n",
       " 'Guyana',\n",
       " 'Haiti',\n",
       " 'Honduras',\n",
       " 'Hong Kong SAR, China',\n",
       " 'Hungary',\n",
       " 'Iceland',\n",
       " 'India',\n",
       " 'Indonesia',\n",
       " 'Iran, Islamic Rep.',\n",
       " 'Iraq',\n",
       " 'Ireland',\n",
       " 'Isle of Man',\n",
       " 'Israel',\n",
       " 'Italy',\n",
       " 'Jamaica',\n",
       " 'Japan',\n",
       " 'Jordan',\n",
       " 'Kazakhstan',\n",
       " 'Kenya',\n",
       " 'Kiribati',\n",
       " 'Korea, Dem. Rep.',\n",
       " 'Korea, Rep.',\n",
       " 'Kosovo',\n",
       " 'Kuwait',\n",
       " 'Kyrgyz Republic',\n",
       " 'Lao PDR',\n",
       " 'Latvia',\n",
       " 'Lebanon',\n",
       " 'Lesotho',\n",
       " 'Liberia',\n",
       " 'Libya',\n",
       " 'Liechtenstein',\n",
       " 'Lithuania',\n",
       " 'Luxembourg',\n",
       " 'Macao SAR, China',\n",
       " 'Macedonia, FYR',\n",
       " 'Madagascar',\n",
       " 'Malawi',\n",
       " 'Malaysia',\n",
       " 'Maldives',\n",
       " 'Mali',\n",
       " 'Malta',\n",
       " 'Marshall Islands',\n",
       " 'Mauritania',\n",
       " 'Mauritius',\n",
       " 'Mexico',\n",
       " 'Micronesia, Fed. Sts.',\n",
       " 'Moldova',\n",
       " 'Monaco',\n",
       " 'Mongolia',\n",
       " 'Montenegro',\n",
       " 'Morocco',\n",
       " 'Mozambique',\n",
       " 'Myanmar',\n",
       " 'Namibia',\n",
       " 'Nepal',\n",
       " 'Netherlands',\n",
       " 'New Caledonia',\n",
       " 'New Zealand',\n",
       " 'Nicaragua',\n",
       " 'Niger',\n",
       " 'Nigeria',\n",
       " 'Northern Mariana Islands',\n",
       " 'Norway',\n",
       " 'Oman',\n",
       " 'Pakistan',\n",
       " 'Palau',\n",
       " 'Panama',\n",
       " 'Papua New Guinea',\n",
       " 'Paraguay',\n",
       " 'Peru',\n",
       " 'Philippines',\n",
       " 'Poland',\n",
       " 'Portugal',\n",
       " 'Puerto Rico',\n",
       " 'Qatar',\n",
       " 'Romania',\n",
       " 'Russian Federation',\n",
       " 'Rwanda',\n",
       " 'Samoa',\n",
       " 'San Marino',\n",
       " 'Sao Tome and Principe',\n",
       " 'Saudi Arabia',\n",
       " 'Senegal',\n",
       " 'Serbia',\n",
       " 'Seychelles',\n",
       " 'Sierra Leone',\n",
       " 'Singapore',\n",
       " 'Sint Maarten (Dutch part)',\n",
       " 'Slovak Republic',\n",
       " 'Slovenia',\n",
       " 'Solomon Islands',\n",
       " 'Somalia',\n",
       " 'South Africa',\n",
       " 'South Sudan',\n",
       " 'Spain',\n",
       " 'Sri Lanka',\n",
       " 'St. Kitts and Nevis',\n",
       " 'St. Lucia',\n",
       " 'St. Martin (French part)',\n",
       " 'St. Vincent and the Grenadines',\n",
       " 'Sudan',\n",
       " 'Suriname',\n",
       " 'Swaziland',\n",
       " 'Sweden',\n",
       " 'Switzerland',\n",
       " 'Syrian Arab Republic',\n",
       " 'Tajikistan',\n",
       " 'Tanzania',\n",
       " 'Thailand',\n",
       " 'Timor-Leste',\n",
       " 'Togo',\n",
       " 'Tonga',\n",
       " 'Trinidad and Tobago',\n",
       " 'Tunisia',\n",
       " 'Turkey',\n",
       " 'Turkmenistan',\n",
       " 'Turks and Caicos Islands',\n",
       " 'Tuvalu',\n",
       " 'Uganda',\n",
       " 'Ukraine',\n",
       " 'United Arab Emirates',\n",
       " 'United Kingdom',\n",
       " 'United States',\n",
       " 'Uruguay',\n",
       " 'Uzbekistan',\n",
       " 'Vanuatu',\n",
       " 'Venezuela, RB',\n",
       " 'Vietnam',\n",
       " 'Virgin Islands (U.S.)',\n",
       " 'West Bank and Gaza',\n",
       " 'Yemen, Rep.',\n",
       " 'Zambia',\n",
       " 'Zimbabwe']"
      ]
     },
     "execution_count": 10,
     "metadata": {},
     "output_type": "execute_result"
    }
   ],
   "source": [
    "countries"
   ]
  },
  {
   "cell_type": "code",
   "execution_count": 11,
   "metadata": {},
   "outputs": [
    {
     "data": {
      "text/plain": [
       "array(['Arab World', 'Caribbean small states',\n",
       "       'Central Europe and the Baltics',\n",
       "       'East Asia & Pacific (all income levels)',\n",
       "       'East Asia & Pacific (developing only)', 'Euro area',\n",
       "       'Europe & Central Asia (all income levels)',\n",
       "       'Europe & Central Asia (developing only)', 'European Union',\n",
       "       'Fragile and conflict affected situations',\n",
       "       'Heavily indebted poor countries (HIPC)', 'High income',\n",
       "       'High income: nonOECD', 'High income: OECD',\n",
       "       'Latin America & Caribbean (all income levels)',\n",
       "       'Latin America & Caribbean (developing only)',\n",
       "       'Least developed countries: UN classification',\n",
       "       'Low & middle income', 'Low income', 'Lower middle income',\n",
       "       'Middle East & North Africa (all income levels)',\n",
       "       'Middle East & North Africa (developing only)', 'Middle income',\n",
       "       'North America', 'OECD members', 'Other small states',\n",
       "       'Pacific island small states', 'Small states', 'South Asia',\n",
       "       'Sub-Saharan Africa (all income levels)',\n",
       "       'Sub-Saharan Africa (developing only)', 'Upper middle income',\n",
       "       'World', 'Afghanistan', 'Albania', 'Algeria', 'American Samoa',\n",
       "       'Andorra', 'Angola', 'Antigua and Barbuda', 'Argentina', 'Armenia',\n",
       "       'Aruba', 'Australia', 'Austria', 'Azerbaijan', 'Bahamas, The',\n",
       "       'Bahrain', 'Bangladesh', 'Barbados', 'Belarus', 'Belgium',\n",
       "       'Belize', 'Benin', 'Bermuda', 'Bhutan', 'Bolivia',\n",
       "       'Bosnia and Herzegovina', 'Botswana', 'Brazil',\n",
       "       'Brunei Darussalam', 'Bulgaria', 'Burkina Faso', 'Burundi',\n",
       "       'Cabo Verde', 'Cambodia', 'Cameroon', 'Canada', 'Cayman Islands',\n",
       "       'Central African Republic', 'Chad', 'Channel Islands', 'Chile',\n",
       "       'China', 'Colombia', 'Comoros', 'Congo, Dem. Rep.', 'Congo, Rep.',\n",
       "       'Costa Rica', \"Cote d'Ivoire\", 'Croatia', 'Cuba', 'Curacao',\n",
       "       'Cyprus', 'Czech Republic', 'Denmark', 'Djibouti', 'Dominica',\n",
       "       'Dominican Republic', 'Ecuador', 'Egypt, Arab Rep.', 'El Salvador',\n",
       "       'Equatorial Guinea', 'Eritrea', 'Estonia', 'Ethiopia',\n",
       "       'Faeroe Islands', 'Fiji', 'Finland', 'France', 'French Polynesia',\n",
       "       'Gabon', 'Gambia, The', 'Georgia', 'Germany', 'Ghana', 'Greece',\n",
       "       'Greenland', 'Grenada', 'Guam', 'Guatemala', 'Guinea',\n",
       "       'Guinea-Bissau', 'Guyana', 'Haiti', 'Honduras',\n",
       "       'Hong Kong SAR, China', 'Hungary', 'Iceland', 'India', 'Indonesia',\n",
       "       'Iran, Islamic Rep.', 'Iraq', 'Ireland', 'Isle of Man', 'Israel',\n",
       "       'Italy', 'Jamaica', 'Japan', 'Jordan', 'Kazakhstan', 'Kenya',\n",
       "       'Kiribati', 'Korea, Dem. Rep.', 'Korea, Rep.', 'Kosovo', 'Kuwait',\n",
       "       'Kyrgyz Republic', 'Lao PDR', 'Latvia', 'Lebanon', 'Lesotho',\n",
       "       'Liberia', 'Libya', 'Liechtenstein', 'Lithuania', 'Luxembourg',\n",
       "       'Macao SAR, China', 'Macedonia, FYR', 'Madagascar', 'Malawi',\n",
       "       'Malaysia', 'Maldives', 'Mali', 'Malta', 'Marshall Islands',\n",
       "       'Mauritania', 'Mauritius', 'Mexico', 'Micronesia, Fed. Sts.',\n",
       "       'Moldova', 'Monaco', 'Mongolia', 'Montenegro', 'Morocco',\n",
       "       'Mozambique', 'Myanmar', 'Namibia', 'Nepal', 'Netherlands',\n",
       "       'New Caledonia', 'New Zealand', 'Nicaragua', 'Niger', 'Nigeria',\n",
       "       'Northern Mariana Islands', 'Norway', 'Oman', 'Pakistan', 'Palau',\n",
       "       'Panama', 'Papua New Guinea', 'Paraguay', 'Peru', 'Philippines',\n",
       "       'Poland', 'Portugal', 'Puerto Rico', 'Qatar', 'Romania',\n",
       "       'Russian Federation', 'Rwanda', 'Samoa', 'San Marino',\n",
       "       'Sao Tome and Principe', 'Saudi Arabia', 'Senegal', 'Serbia',\n",
       "       'Seychelles', 'Sierra Leone', 'Singapore',\n",
       "       'Sint Maarten (Dutch part)', 'Slovak Republic', 'Slovenia',\n",
       "       'Solomon Islands', 'Somalia', 'South Africa', 'South Sudan',\n",
       "       'Spain', 'Sri Lanka', 'St. Kitts and Nevis', 'St. Lucia',\n",
       "       'St. Martin (French part)', 'St. Vincent and the Grenadines',\n",
       "       'Sudan', 'Suriname', 'Swaziland', 'Sweden', 'Switzerland',\n",
       "       'Syrian Arab Republic', 'Tajikistan', 'Tanzania', 'Thailand',\n",
       "       'Timor-Leste', 'Togo', 'Tonga', 'Trinidad and Tobago', 'Tunisia',\n",
       "       'Turkey', 'Turkmenistan', 'Turks and Caicos Islands', 'Tuvalu',\n",
       "       'Uganda', 'Ukraine', 'United Arab Emirates', 'United Kingdom',\n",
       "       'United States', 'Uruguay', 'Uzbekistan', 'Vanuatu',\n",
       "       'Venezuela, RB', 'Vietnam', 'Virgin Islands (U.S.)',\n",
       "       'West Bank and Gaza', 'Yemen, Rep.', 'Zambia', 'Zimbabwe'],\n",
       "      dtype=object)"
      ]
     },
     "execution_count": 11,
     "metadata": {},
     "output_type": "execute_result"
    }
   ],
   "source": [
    "x=indc['CountryName'].unique()\n",
    "x"
   ]
  },
  {
   "cell_type": "code",
   "execution_count": 12,
   "metadata": {},
   "outputs": [
    {
     "name": "stdout",
     "output_type": "stream",
     "text": [
      "247\n"
     ]
    }
   ],
   "source": [
    "print(len(countries)) ## how many countries "
   ]
  },
  {
   "cell_type": "code",
   "execution_count": 13,
   "metadata": {
    "collapsed": true
   },
   "outputs": [],
   "source": [
    "from collections import Counter"
   ]
  },
  {
   "cell_type": "code",
   "execution_count": 14,
   "metadata": {
    "collapsed": true
   },
   "outputs": [],
   "source": [
    "c = Counter(countries)"
   ]
  },
  {
   "cell_type": "code",
   "execution_count": 15,
   "metadata": {},
   "outputs": [
    {
     "name": "stdout",
     "output_type": "stream",
     "text": [
      "Counter({'Arab World': 1, 'Caribbean small states': 1, 'Central Europe and the Baltics': 1, 'East Asia & Pacific (all income levels)': 1, 'East Asia & Pacific (developing only)': 1, 'Euro area': 1, 'Europe & Central Asia (all income levels)': 1, 'Europe & Central Asia (developing only)': 1, 'European Union': 1, 'Fragile and conflict affected situations': 1, 'Heavily indebted poor countries (HIPC)': 1, 'High income': 1, 'High income: nonOECD': 1, 'High income: OECD': 1, 'Latin America & Caribbean (all income levels)': 1, 'Latin America & Caribbean (developing only)': 1, 'Least developed countries: UN classification': 1, 'Low & middle income': 1, 'Low income': 1, 'Lower middle income': 1, 'Middle East & North Africa (all income levels)': 1, 'Middle East & North Africa (developing only)': 1, 'Middle income': 1, 'North America': 1, 'OECD members': 1, 'Other small states': 1, 'Pacific island small states': 1, 'Small states': 1, 'South Asia': 1, 'Sub-Saharan Africa (all income levels)': 1, 'Sub-Saharan Africa (developing only)': 1, 'Upper middle income': 1, 'World': 1, 'Afghanistan': 1, 'Albania': 1, 'Algeria': 1, 'American Samoa': 1, 'Andorra': 1, 'Angola': 1, 'Antigua and Barbuda': 1, 'Argentina': 1, 'Armenia': 1, 'Aruba': 1, 'Australia': 1, 'Austria': 1, 'Azerbaijan': 1, 'Bahamas, The': 1, 'Bahrain': 1, 'Bangladesh': 1, 'Barbados': 1, 'Belarus': 1, 'Belgium': 1, 'Belize': 1, 'Benin': 1, 'Bermuda': 1, 'Bhutan': 1, 'Bolivia': 1, 'Bosnia and Herzegovina': 1, 'Botswana': 1, 'Brazil': 1, 'Brunei Darussalam': 1, 'Bulgaria': 1, 'Burkina Faso': 1, 'Burundi': 1, 'Cabo Verde': 1, 'Cambodia': 1, 'Cameroon': 1, 'Canada': 1, 'Cayman Islands': 1, 'Central African Republic': 1, 'Chad': 1, 'Channel Islands': 1, 'Chile': 1, 'China': 1, 'Colombia': 1, 'Comoros': 1, 'Congo, Dem. Rep.': 1, 'Congo, Rep.': 1, 'Costa Rica': 1, \"Cote d'Ivoire\": 1, 'Croatia': 1, 'Cuba': 1, 'Curacao': 1, 'Cyprus': 1, 'Czech Republic': 1, 'Denmark': 1, 'Djibouti': 1, 'Dominica': 1, 'Dominican Republic': 1, 'Ecuador': 1, 'Egypt, Arab Rep.': 1, 'El Salvador': 1, 'Equatorial Guinea': 1, 'Eritrea': 1, 'Estonia': 1, 'Ethiopia': 1, 'Faeroe Islands': 1, 'Fiji': 1, 'Finland': 1, 'France': 1, 'French Polynesia': 1, 'Gabon': 1, 'Gambia, The': 1, 'Georgia': 1, 'Germany': 1, 'Ghana': 1, 'Greece': 1, 'Greenland': 1, 'Grenada': 1, 'Guam': 1, 'Guatemala': 1, 'Guinea': 1, 'Guinea-Bissau': 1, 'Guyana': 1, 'Haiti': 1, 'Honduras': 1, 'Hong Kong SAR, China': 1, 'Hungary': 1, 'Iceland': 1, 'India': 1, 'Indonesia': 1, 'Iran, Islamic Rep.': 1, 'Iraq': 1, 'Ireland': 1, 'Isle of Man': 1, 'Israel': 1, 'Italy': 1, 'Jamaica': 1, 'Japan': 1, 'Jordan': 1, 'Kazakhstan': 1, 'Kenya': 1, 'Kiribati': 1, 'Korea, Dem. Rep.': 1, 'Korea, Rep.': 1, 'Kosovo': 1, 'Kuwait': 1, 'Kyrgyz Republic': 1, 'Lao PDR': 1, 'Latvia': 1, 'Lebanon': 1, 'Lesotho': 1, 'Liberia': 1, 'Libya': 1, 'Liechtenstein': 1, 'Lithuania': 1, 'Luxembourg': 1, 'Macao SAR, China': 1, 'Macedonia, FYR': 1, 'Madagascar': 1, 'Malawi': 1, 'Malaysia': 1, 'Maldives': 1, 'Mali': 1, 'Malta': 1, 'Marshall Islands': 1, 'Mauritania': 1, 'Mauritius': 1, 'Mexico': 1, 'Micronesia, Fed. Sts.': 1, 'Moldova': 1, 'Monaco': 1, 'Mongolia': 1, 'Montenegro': 1, 'Morocco': 1, 'Mozambique': 1, 'Myanmar': 1, 'Namibia': 1, 'Nepal': 1, 'Netherlands': 1, 'New Caledonia': 1, 'New Zealand': 1, 'Nicaragua': 1, 'Niger': 1, 'Nigeria': 1, 'Northern Mariana Islands': 1, 'Norway': 1, 'Oman': 1, 'Pakistan': 1, 'Palau': 1, 'Panama': 1, 'Papua New Guinea': 1, 'Paraguay': 1, 'Peru': 1, 'Philippines': 1, 'Poland': 1, 'Portugal': 1, 'Puerto Rico': 1, 'Qatar': 1, 'Romania': 1, 'Russian Federation': 1, 'Rwanda': 1, 'Samoa': 1, 'San Marino': 1, 'Sao Tome and Principe': 1, 'Saudi Arabia': 1, 'Senegal': 1, 'Serbia': 1, 'Seychelles': 1, 'Sierra Leone': 1, 'Singapore': 1, 'Sint Maarten (Dutch part)': 1, 'Slovak Republic': 1, 'Slovenia': 1, 'Solomon Islands': 1, 'Somalia': 1, 'South Africa': 1, 'South Sudan': 1, 'Spain': 1, 'Sri Lanka': 1, 'St. Kitts and Nevis': 1, 'St. Lucia': 1, 'St. Martin (French part)': 1, 'St. Vincent and the Grenadines': 1, 'Sudan': 1, 'Suriname': 1, 'Swaziland': 1, 'Sweden': 1, 'Switzerland': 1, 'Syrian Arab Republic': 1, 'Tajikistan': 1, 'Tanzania': 1, 'Thailand': 1, 'Timor-Leste': 1, 'Togo': 1, 'Tonga': 1, 'Trinidad and Tobago': 1, 'Tunisia': 1, 'Turkey': 1, 'Turkmenistan': 1, 'Turks and Caicos Islands': 1, 'Tuvalu': 1, 'Uganda': 1, 'Ukraine': 1, 'United Arab Emirates': 1, 'United Kingdom': 1, 'United States': 1, 'Uruguay': 1, 'Uzbekistan': 1, 'Vanuatu': 1, 'Venezuela, RB': 1, 'Vietnam': 1, 'Virgin Islands (U.S.)': 1, 'West Bank and Gaza': 1, 'Yemen, Rep.': 1, 'Zambia': 1, 'Zimbabwe': 1})\n"
     ]
    }
   ],
   "source": [
    "print(c)"
   ]
  },
  {
   "cell_type": "code",
   "execution_count": 16,
   "metadata": {
    "collapsed": true
   },
   "outputs": [],
   "source": [
    "ccode = indc['CountryCode'].tolist() ## just list all country codes"
   ]
  },
  {
   "cell_type": "code",
   "execution_count": 17,
   "metadata": {
    "collapsed": true
   },
   "outputs": [],
   "source": [
    "cc = Counter(ccode)"
   ]
  },
  {
   "cell_type": "code",
   "execution_count": 18,
   "metadata": {},
   "outputs": [
    {
     "name": "stdout",
     "output_type": "stream",
     "text": [
      "Counter({'MEX': 37244, 'COL': 37227, 'PHL': 36912, 'PER': 36815, 'CRI': 36457, 'THA': 36355, 'MAR': 36275, 'IDN': 36252, 'MYS': 35874, 'TUR': 35819, 'ECU': 35788, 'PAK': 35768, 'IND': 35721, 'BRA': 35550, 'EGY': 35367, 'BOL': 35307, 'TUN': 35302, 'HND': 35171, 'GTM': 35078, 'SLV': 34739, 'KEN': 34621, 'DZA': 34578, 'CMR': 34259, 'DOM': 34253, 'JOR': 34050, 'SEN': 33990, 'PAN': 33984, 'NIC': 33638, 'BGD': 33386, 'LKA': 33369, 'TGO': 33221, 'IRN': 32966, 'BEN': 32965, 'ZMB': 32930, 'MDG': 32637, 'BFA': 32604, 'COG': 32310, 'MUS': 32285, 'BWA': 32039, 'JAM': 31835, 'RWA': 31770, 'GHA': 31730, 'PRY': 31423, 'UGA': 31412, 'NGA': 31381, 'ZAR': 31257, 'SDN': 31175, 'LAC': 31167, 'MLI': 31163, 'LSO': 31161, 'NPL': 31134, 'SYR': 31106, 'SAS': 30913, 'CIV': 30596, 'ZAF': 30496, 'BDI': 30494, 'MWI': 30223, 'LMC': 30202, 'GAB': 30121, 'MRT': 30080, 'ROM': 30014, 'GMB': 29864, 'BGR': 29859, 'TZA': 29778, 'BLZ': 29689, 'CHN': 29678, 'NER': 29428, 'ZWE': 29310, 'FJI': 29309, 'SWZ': 29279, 'LMY': 29278, 'MIC': 29253, 'SLE': 29150, 'UMC': 28923, 'PNG': 28711, 'CAF': 28561, 'SSA': 28547, 'GUY': 28547, 'MNA': 28545, 'EAP': 28477, 'ETH': 28134, 'KOR': 28126, 'TCD': 27768, 'MOZ': 27568, 'LBN': 27334, 'CHL': 27156, 'ECA': 26646, 'URY': 26508, 'SWE': 26503, 'VEN': 26488, 'FRA': 26371, 'GIN': 26362, 'NLD': 26348, 'ITA': 26136, 'LAO': 26102, 'FIN': 26096, 'ARG': 25955, 'ESP': 25949, 'LIC': 25867, 'GRC': 25794, 'JPN': 25780, 'MMR': 25584, 'VNM': 25552, 'DNK': 25551, 'VCT': 25541, 'AUT': 25516, 'KHM': 25448, 'NOR': 25425, 'AUS': 25325, 'GBR': 25293, 'PRT': 25136, 'GNB': 24878, 'LBR': 24803, 'IRL': 24723, 'CAN': 24633, 'GRD': 24572, 'USA': 24425, 'COM': 24421, 'HTI': 24354, 'CYP': 24097, 'TTO': 24086, 'MNG': 23978, 'LCA': 23749, 'YEM': 23745, 'BEL': 23461, 'BTN': 23395, 'CHE': 23344, 'MLT': 23199, 'DEU': 23166, 'ALB': 23164, 'NZL': 23052, 'DJI': 22923, 'CPV': 22911, 'SGP': 22600, 'ISR': 22557, 'MDA': 22550, 'UKR': 22547, 'GEO': 22522, 'HUN': 22293, 'VUT': 22249, 'ISL': 22146, 'DMA': 22107, 'KGZ': 21934, 'BLR': 21875, 'MDV': 21795, 'LCN': 21752, 'OED': 21723, 'WSM': 21696, 'HIC': 21573, 'EUU': 21557, 'OEC': 21421, 'TON': 21379, 'SLB': 21355, 'MKD': 21238, 'KAZ': 21219, 'POL': 21177, 'AZE': 21165, 'AGO': 21158, 'ARM': 20992, 'SRB': 20877, 'EMU': 20843, 'LUX': 20834, 'SOM': 20764, 'OMN': 20699, 'CUB': 20642, 'WLD': 20566, 'ECS': 20445, 'HKG': 20402, 'TJK': 19874, 'KWT': 19690, 'EAS': 19564, 'SSF': 19167, 'CZE': 19156, 'STP': 19117, 'NAC': 18790, 'NAM': 18518, 'SAU': 18456, 'HPC': 18375, 'BHS': 18165, 'MNE': 18118, 'MEA': 17903, 'SUR': 17758, 'BRB': 17611, 'SYC': 17501, 'UZB': 17406, 'LDC': 17405, 'AFG': 17402, 'BHR': 17278, 'SVK': 17250, 'RUS': 17164, 'SVN': 17161, 'CSS': 17117, 'ARB': 17115, 'OSS': 17010, 'EST': 16991, 'NOC': 16984, 'BRN': 16965, 'HRV': 16853, 'IRQ': 16792, 'CEB': 16697, 'LVA': 16663, 'SST': 16656, 'BIH': 16514, 'LTU': 16336, 'ERI': 16206, 'QAT': 16200, 'FCS': 15391, 'ARE': 15379, 'MAC': 14881, 'PSS': 14252, 'GNQ': 14127, 'TKM': 14011, 'LBY': 13943, 'ATG': 13851, 'KNA': 13712, 'KIR': 12999, 'PRI': 12687, 'WBG': 11735, 'TMP': 9461, 'BMU': 8765, 'NCL': 8352, 'PYF': 7979, 'PRK': 7934, 'ABW': 7607, 'FSM': 7126, 'KSV': 6851, 'PLW': 5896, 'MHL': 5764, 'TUV': 5683, 'SMR': 5020, 'GRL': 4967, 'ADO': 4921, 'FRO': 4691, 'VIR': 4302, 'LIE': 4282, 'GUM': 4265, 'CYM': 4006, 'MCO': 3881, 'SSD': 3667, 'TCA': 2840, 'ASM': 2802, 'CHI': 2739, 'MNP': 1942, 'IMY': 1764, 'CUW': 1564, 'SXM': 681, 'MAF': 572})\n"
     ]
    }
   ],
   "source": [
    "print(cc)"
   ]
  },
  {
   "cell_type": "code",
   "execution_count": 19,
   "metadata": {},
   "outputs": [
    {
     "name": "stdout",
     "output_type": "stream",
     "text": [
      "[('MEX', 37244)]\n"
     ]
    }
   ],
   "source": [
    "print(cc.most_common(1)) ## most common country code"
   ]
  },
  {
   "cell_type": "code",
   "execution_count": 20,
   "metadata": {},
   "outputs": [
    {
     "name": "stdout",
     "output_type": "stream",
     "text": [
      "[('MEX', 37244), ('COL', 37227)]\n"
     ]
    }
   ],
   "source": [
    "print(cc.most_common(2))"
   ]
  },
  {
   "cell_type": "code",
   "execution_count": 21,
   "metadata": {},
   "outputs": [
    {
     "name": "stdout",
     "output_type": "stream",
     "text": [
      "0     Adolescent fertility rate (births per 1,000 wo...\n",
      "1     Age dependency ratio (% of working-age populat...\n",
      "2     Age dependency ratio, old (% of working-age po...\n",
      "3     Age dependency ratio, young (% of working-age ...\n",
      "4           Arms exports (SIPRI trend indicator values)\n",
      "5           Arms imports (SIPRI trend indicator values)\n",
      "6                  Birth rate, crude (per 1,000 people)\n",
      "7                                    CO2 emissions (kt)\n",
      "8                CO2 emissions (metric tons per capita)\n",
      "9     CO2 emissions from gaseous fuel consumption (%...\n",
      "10    CO2 emissions from liquid fuel consumption (% ...\n",
      "11      CO2 emissions from liquid fuel consumption (kt)\n",
      "12    CO2 emissions from solid fuel consumption (% o...\n",
      "13                 Death rate, crude (per 1,000 people)\n",
      "14             Fertility rate, total (births per woman)\n",
      "15                        Fixed telephone subscriptions\n",
      "16       Fixed telephone subscriptions (per 100 people)\n",
      "17                     Hospital beds (per 1,000 people)\n",
      "18        International migrant stock (% of population)\n",
      "19                   International migrant stock, total\n",
      "Name: IndicatorName, dtype: object\n"
     ]
    }
   ],
   "source": [
    "print(indc['IndicatorName'][:20]) ## top 20 indicators"
   ]
  },
  {
   "cell_type": "code",
   "execution_count": null,
   "metadata": {
    "collapsed": true
   },
   "outputs": [],
   "source": []
  },
  {
   "cell_type": "code",
   "execution_count": null,
   "metadata": {
    "collapsed": true
   },
   "outputs": [],
   "source": []
  }
 ],
 "metadata": {
  "kernelspec": {
   "display_name": "Python 3",
   "language": "python",
   "name": "python3"
  },
  "language_info": {
   "codemirror_mode": {
    "name": "ipython",
    "version": 3
   },
   "file_extension": ".py",
   "mimetype": "text/x-python",
   "name": "python",
   "nbconvert_exporter": "python",
   "pygments_lexer": "ipython3",
   "version": "3.8.8"
  }
 },
 "nbformat": 4,
 "nbformat_minor": 2
}
