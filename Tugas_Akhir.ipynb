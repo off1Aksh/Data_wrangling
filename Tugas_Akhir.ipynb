{
 "cells": [
  {
   "cell_type": "markdown",
   "metadata": {},
   "source": [
    "### Tugas Akhir Materi Feature Extraction and Selection \n",
    "\n",
    "Silakan pergunakan pengetahuan yang Anda dapat pada sesi kali ini terhadap dataset berikut:\n",
    "1. https://www.kaggle.com/datasets/yasserh/wine-quality-dataset\n",
    "2. https://www.kaggle.com/datasets/iabhishekofficial/mobile-price-classification?select=train.csv\n",
    "\n",
    "Lakukan eksplorasi data dan feature selection pada data di atas."
   ]
  },
  {
   "cell_type": "code",
   "execution_count": null,
   "metadata": {},
   "outputs": [],
   "source": []
  }
 ],
 "metadata": {
  "language_info": {
   "name": "python"
  },
  "orig_nbformat": 4
 },
 "nbformat": 4,
 "nbformat_minor": 2
}
